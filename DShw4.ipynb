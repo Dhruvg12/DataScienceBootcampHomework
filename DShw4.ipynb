{
  "nbformat": 4,
  "nbformat_minor": 0,
  "metadata": {
    "colab": {
      "provenance": []
    },
    "kernelspec": {
      "name": "python3",
      "display_name": "Python 3"
    },
    "language_info": {
      "name": "python"
    }
  },
  "cells": [
    {
      "cell_type": "code",
      "execution_count": null,
      "metadata": {
        "id": "18UnjP3hJKN_"
      },
      "outputs": [],
      "source": [
        "SELECT COUNT(Order_id) AS total_orders\n",
        "FROM SALES\n",
        "WHERE Date = '2023-03-18';\n",
        "\n",
        "SELECT COUNT(SALES.Order_id) AS total_orders_by_john_doe\n",
        "FROM SALES\n",
        "JOIN CUSTOMERS ON SALES.Customer_id = CUSTOMERS.customer_id\n",
        "WHERE Date = '2023-03-18'\n",
        "AND CUSTOMERS.first_name = 'John'\n",
        "AND CUSTOMERS.last_name = 'Doe';\n",
        "\n",
        "SELECT COUNT(DISTINCT Customer_id) AS total_customers,\n",
        "       AVG(Revenue) AS avg_spend_per_customer\n",
        "FROM SALES\n",
        "WHERE Date BETWEEN '2023-01-01' AND '2023-01-31';\n",
        "\n",
        "SELECT department, SUM(Revenue) AS total_revenue\n",
        "FROM SALES\n",
        "JOIN ITEMS ON SALES.Item_id = ITEMS.Item_id\n",
        "WHERE Date BETWEEN '2022-01-01' AND '2022-12-31'\n",
        "GROUP BY department\n",
        "HAVING total_revenue < 600;\n",
        "\n",
        "SELECT MAX(Revenue) AS max_revenue, MIN(Revenue) AS min_revenue\n",
        "FROM SALES;\n"
      ]
    }
  ]
}