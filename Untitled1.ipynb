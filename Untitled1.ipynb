{
  "nbformat": 4,
  "nbformat_minor": 0,
  "metadata": {
    "colab": {
      "provenance": []
    },
    "kernelspec": {
      "name": "python3",
      "display_name": "Python 3"
    },
    "language_info": {
      "name": "python"
    }
  },
  "cells": [
    {
      "cell_type": "code",
      "execution_count": null,
      "metadata": {
        "id": "k4xqdRVs2UwP"
      },
      "outputs": [],
      "source": [
        "import pandas as pd\n",
        "import matplotlib.pyplot as plt\n",
        "\n",
        "data_url = \"https://data.cityofnewyork.us/api/views/6fi9-q3ta/rows.csv?accessType=DOWNLOAD\"\n",
        "data = pd.read_csv(data_url)\n",
        "\n",
        "data['hour_beginning'] = pd.to_datetime(data['hour_beginning'])\n",
        "\n",
        "weekday_data = data[data['hour_beginning'].dt.weekday < 5]\n",
        "\n",
        "pedestrian_counts = weekday_data.groupby(weekday_data['hour_beginning'].dt.strftime('%A'))['Pedestrians'].sum()\n",
        "\n",
        "plt.figure(figsize=(10, 6))\n",
        "plt.plot(pedestrian_counts, marker='o')\n",
        "plt.title('Pedestrian Counts for Each Day of the Week')\n",
        "plt.xlabel('Day of the Week')\n",
        "plt.ylabel('Pedestrian Counts')\n",
        "plt.grid()\n",
        "plt.show()\n",
        "\n",
        "import seaborn as sns\n",
        "\n",
        "brooklyn_2019 = data[(data['location'] == 'Brooklyn Bridge') & (data['hour_beginning'].dt.year == 2019)]\n",
        "\n",
        "weather_encoded = pd.get_dummies(brooklyn_2019['weather_summary'])\n",
        "data_encoded = pd.concat([weather_encoded, brooklyn_2019['Pedestrians']], axis=1)\n",
        "\n",
        "corr_matrix = data_encoded.corr()\n",
        "\n",
        "plt.figure(figsize=(10, 8))\n",
        "sns.heatmap(corr_matrix, annot=True, cmap='coolwarm', fmt=\".2f\", linewidths=0.5)\n",
        "plt.title('Correlation Matrix of Weather Summary and Pedestrian Counts')\n",
        "plt.show()\n"
      ]
    }
  ]
}